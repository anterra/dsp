{
 "cells": [
  {
   "cell_type": "code",
   "execution_count": 1,
   "metadata": {},
   "outputs": [
    {
     "name": "stdout",
     "output_type": "stream",
     "text": [
      "Python Version: 3.7.6 (default, Jan  8 2020, 13:42:34) \n",
      "[Clang 4.0.1 (tags/RELEASE_401/final)] \n",
      "\n"
     ]
    }
   ],
   "source": [
    "import sys\n",
    "print(\"Python Version:\", sys.version, '\\n')"
   ]
  },
  {
   "cell_type": "markdown",
   "metadata": {},
   "source": [
    "# Pickle: Saving Objects for Later"
   ]
  },
  {
   "cell_type": "markdown",
   "metadata": {},
   "source": [
    "Often in data science, we'll create some model or some version of our data and want to use it later. We have many options - we can save the coefficients, or save the data to csv, or...\n",
    "\n",
    "Actually, we don't have that many options. \n",
    "\n",
    "One way to overcome that is to save the python object to a file as a serialized object. That means we convert the entire object to a bunch of bytes, save those bytes into a file, and then have the ability to unpack those bytes back into their original format later. \n",
    "\n",
    "This is done by a module called `pickle`. Let's see it in action."
   ]
  },
  {
   "cell_type": "code",
   "execution_count": 3,
   "metadata": {},
   "outputs": [],
   "source": [
    "import pickle\n",
    "import random\n",
    "\n",
    "lots_of_noise = {\n",
    "    'CA': [random.randint(0,65) for _ in range(100)],\n",
    "    'IL': [random.randint(0,65) for _ in range(50)],\n",
    "    'NY': [random.randint(0,65) for _ in range(90)],\n",
    "    'WA': [random.randint(0,65) for _ in range(33)]\n",
    "}"
   ]
  },
  {
   "cell_type": "code",
   "execution_count": 4,
   "metadata": {},
   "outputs": [
    {
     "name": "stdout",
     "output_type": "stream",
     "text": [
      "{'CA': [36, 18, 57, 60, 46, 0, 51, 13, 32, 45, 10, 50, 63, 43, 6, 0, 20, 48, 44, 14, 43, 19, 65, 47, 52, 25, 20, 44, 29, 17, 21, 2, 50, 54, 6, 50, 54, 34, 35, 20, 14, 58, 13, 33, 3, 36, 44, 22, 35, 7, 47, 47, 53, 13, 25, 45, 38, 23, 22, 47, 19, 35, 17, 26, 8, 59, 22, 26, 64, 15, 43, 26, 5, 60, 63, 48, 13, 47, 50, 14, 42, 4, 2, 61, 37, 32, 55, 11, 20, 12, 23, 56, 25, 11, 5, 12, 0, 45, 25, 24], 'IL': [45, 55, 34, 9, 8, 21, 30, 42, 23, 49, 47, 34, 2, 9, 23, 20, 63, 44, 38, 58, 15, 50, 0, 45, 64, 24, 17, 50, 65, 29, 50, 53, 39, 60, 18, 6, 20, 57, 65, 16, 24, 5, 0, 33, 54, 57, 41, 55, 5, 46], 'NY': [15, 56, 63, 61, 39, 43, 32, 60, 6, 10, 6, 35, 6, 9, 46, 38, 33, 6, 10, 21, 6, 28, 17, 24, 44, 41, 10, 60, 29, 31, 35, 8, 25, 61, 14, 44, 16, 62, 5, 4, 24, 9, 63, 22, 63, 62, 31, 8, 55, 2, 54, 19, 19, 43, 10, 9, 44, 11, 6, 56, 55, 46, 43, 1, 25, 7, 40, 32, 14, 12, 39, 14, 50, 12, 44, 49, 33, 31, 52, 52, 7, 40, 63, 9, 22, 22, 33, 33, 1, 6], 'WA': [26, 38, 52, 1, 46, 30, 7, 31, 63, 20, 22, 56, 64, 19, 23, 41, 51, 17, 49, 4, 29, 65, 20, 55, 34, 19, 26, 49, 24, 42, 38, 52, 59]}\n"
     ]
    }
   ],
   "source": [
    "print(lots_of_noise)"
   ]
  },
  {
   "cell_type": "code",
   "execution_count": 5,
   "metadata": {},
   "outputs": [
    {
     "name": "stdout",
     "output_type": "stream",
     "text": [
      "Variable        Type      Data/Info\n",
      "-----------------------------------\n",
      "lots_of_noise   dict      n=4\n",
      "pickle          module    <module 'pickle' from '/U<...>lib/python3.7/pickle.py'>\n",
      "random          module    <module 'random' from '/U<...>lib/python3.7/random.py'>\n",
      "sys             module    <module 'sys' (built-in)>\n"
     ]
    }
   ],
   "source": [
    "whos"
   ]
  },
  {
   "cell_type": "markdown",
   "metadata": {},
   "source": [
    "We can see in this `whos` command that the object `lots_of_noise` exists and is a `dict` with 4 keys. Nice. Now let's look at our file system and verify that there isn't a file called `noise.pickle`."
   ]
  },
  {
   "cell_type": "code",
   "execution_count": 6,
   "metadata": {
    "scrolled": true
   },
   "outputs": [
    {
     "name": "stdout",
     "output_type": "stream",
     "text": [
      "advanced_python_datatypes.ipynb       my_dataframe.pickle\r\n",
      "complexity.md                         noise.pickle\r\n",
      "deep_and_shallow_copy.ipynb           pickle_saving_objects_for_later.ipynb\r\n",
      "\u001b[34mdeep_copy_demo\u001b[m\u001b[m                        readme.md\r\n"
     ]
    }
   ],
   "source": [
    "!ls"
   ]
  },
  {
   "cell_type": "code",
   "execution_count": 7,
   "metadata": {},
   "outputs": [],
   "source": [
    "!rm noise.pickle # i did in fact have a noise.pickle file. "
   ]
  },
  {
   "cell_type": "markdown",
   "metadata": {},
   "source": [
    "Okay, now we're ready to create a file and write the bytes to it. To do this with `pickle`, we use python's read-write streamer `open` and create a writable-binary (`wb`) file. We'll then use `pickle.dump` to put an object into that file as a string of bytes."
   ]
  },
  {
   "cell_type": "code",
   "execution_count": 8,
   "metadata": {},
   "outputs": [
    {
     "name": "stdout",
     "output_type": "stream",
     "text": [
      "advanced_python_datatypes.ipynb       my_dataframe.pickle\r\n",
      "complexity.md                         pickle_saving_objects_for_later.ipynb\r\n",
      "deep_and_shallow_copy.ipynb           readme.md\r\n",
      "\u001b[34mdeep_copy_demo\u001b[m\u001b[m\r\n"
     ]
    }
   ],
   "source": [
    "!ls"
   ]
  },
  {
   "cell_type": "code",
   "execution_count": 9,
   "metadata": {},
   "outputs": [],
   "source": [
    "with open('noise.pickle', 'wb') as to_write:\n",
    "    pickle.dump(lots_of_noise, to_write)"
   ]
  },
  {
   "cell_type": "code",
   "execution_count": 10,
   "metadata": {},
   "outputs": [
    {
     "name": "stdout",
     "output_type": "stream",
     "text": [
      "advanced_python_datatypes.ipynb       my_dataframe.pickle\r\n",
      "complexity.md                         noise.pickle\r\n",
      "deep_and_shallow_copy.ipynb           pickle_saving_objects_for_later.ipynb\r\n",
      "\u001b[34mdeep_copy_demo\u001b[m\u001b[m                        readme.md\r\n"
     ]
    }
   ],
   "source": [
    "!ls"
   ]
  },
  {
   "cell_type": "markdown",
   "metadata": {},
   "source": [
    "Now let's delete `lots_of_noise` and prove to ourselves it doesn't exist in Python's memory anymore."
   ]
  },
  {
   "cell_type": "code",
   "execution_count": 11,
   "metadata": {},
   "outputs": [],
   "source": [
    "del lots_of_noise"
   ]
  },
  {
   "cell_type": "code",
   "execution_count": 12,
   "metadata": {},
   "outputs": [
    {
     "name": "stdout",
     "output_type": "stream",
     "text": [
      "Variable   Type              Data/Info\n",
      "--------------------------------------\n",
      "pickle     module            <module 'pickle' from '/U<...>lib/python3.7/pickle.py'>\n",
      "random     module            <module 'random' from '/U<...>lib/python3.7/random.py'>\n",
      "sys        module            <module 'sys' (built-in)>\n",
      "to_write   BufferedWriter    <_io.BufferedWriter name='noise.pickle'>\n"
     ]
    }
   ],
   "source": [
    "whos"
   ]
  },
  {
   "cell_type": "code",
   "execution_count": 13,
   "metadata": {},
   "outputs": [
    {
     "ename": "NameError",
     "evalue": "name 'lots_of_noise' is not defined",
     "output_type": "error",
     "traceback": [
      "\u001b[0;31m---------------------------------------------------------------------------\u001b[0m",
      "\u001b[0;31mNameError\u001b[0m                                 Traceback (most recent call last)",
      "\u001b[0;32m<ipython-input-13-69f22b4d5ca8>\u001b[0m in \u001b[0;36m<module>\u001b[0;34m\u001b[0m\n\u001b[0;32m----> 1\u001b[0;31m \u001b[0mprint\u001b[0m\u001b[0;34m(\u001b[0m\u001b[0mlots_of_noise\u001b[0m\u001b[0;34m)\u001b[0m\u001b[0;34m\u001b[0m\u001b[0;34m\u001b[0m\u001b[0m\n\u001b[0m",
      "\u001b[0;31mNameError\u001b[0m: name 'lots_of_noise' is not defined"
     ]
    }
   ],
   "source": [
    "print(lots_of_noise)"
   ]
  },
  {
   "cell_type": "markdown",
   "metadata": {},
   "source": [
    "Lovely. It's dead forever. Or is it?\n",
    "\n",
    "Let's open that `noise.pickle` file with read-binary (`rb`) mode. Then we'll ask pickle to retrieve the file with `pickle.load` and store it back in a variable."
   ]
  },
  {
   "cell_type": "code",
   "execution_count": 14,
   "metadata": {},
   "outputs": [],
   "source": [
    "with open('noise.pickle','rb') as read_file:\n",
    "    new_noise = pickle.load(read_file)"
   ]
  },
  {
   "cell_type": "code",
   "execution_count": 15,
   "metadata": {},
   "outputs": [
    {
     "name": "stdout",
     "output_type": "stream",
     "text": [
      "{'CA': [36, 18, 57, 60, 46, 0, 51, 13, 32, 45, 10, 50, 63, 43, 6, 0, 20, 48, 44, 14, 43, 19, 65, 47, 52, 25, 20, 44, 29, 17, 21, 2, 50, 54, 6, 50, 54, 34, 35, 20, 14, 58, 13, 33, 3, 36, 44, 22, 35, 7, 47, 47, 53, 13, 25, 45, 38, 23, 22, 47, 19, 35, 17, 26, 8, 59, 22, 26, 64, 15, 43, 26, 5, 60, 63, 48, 13, 47, 50, 14, 42, 4, 2, 61, 37, 32, 55, 11, 20, 12, 23, 56, 25, 11, 5, 12, 0, 45, 25, 24], 'IL': [45, 55, 34, 9, 8, 21, 30, 42, 23, 49, 47, 34, 2, 9, 23, 20, 63, 44, 38, 58, 15, 50, 0, 45, 64, 24, 17, 50, 65, 29, 50, 53, 39, 60, 18, 6, 20, 57, 65, 16, 24, 5, 0, 33, 54, 57, 41, 55, 5, 46], 'NY': [15, 56, 63, 61, 39, 43, 32, 60, 6, 10, 6, 35, 6, 9, 46, 38, 33, 6, 10, 21, 6, 28, 17, 24, 44, 41, 10, 60, 29, 31, 35, 8, 25, 61, 14, 44, 16, 62, 5, 4, 24, 9, 63, 22, 63, 62, 31, 8, 55, 2, 54, 19, 19, 43, 10, 9, 44, 11, 6, 56, 55, 46, 43, 1, 25, 7, 40, 32, 14, 12, 39, 14, 50, 12, 44, 49, 33, 31, 52, 52, 7, 40, 63, 9, 22, 22, 33, 33, 1, 6], 'WA': [26, 38, 52, 1, 46, 30, 7, 31, 63, 20, 22, 56, 64, 19, 23, 41, 51, 17, 49, 4, 29, 65, 20, 55, 34, 19, 26, 49, 24, 42, 38, 52, 59]}\n"
     ]
    }
   ],
   "source": [
    "print(new_noise)"
   ]
  },
  {
   "cell_type": "code",
   "execution_count": 16,
   "metadata": {},
   "outputs": [
    {
     "name": "stdout",
     "output_type": "stream",
     "text": [
      "Variable    Type              Data/Info\n",
      "---------------------------------------\n",
      "new_noise   dict              n=4\n",
      "pickle      module            <module 'pickle' from '/U<...>lib/python3.7/pickle.py'>\n",
      "random      module            <module 'random' from '/U<...>lib/python3.7/random.py'>\n",
      "read_file   BufferedReader    <_io.BufferedReader name='noise.pickle'>\n",
      "sys         module            <module 'sys' (built-in)>\n",
      "to_write    BufferedWriter    <_io.BufferedWriter name='noise.pickle'>\n"
     ]
    }
   ],
   "source": [
    "whos"
   ]
  },
  {
   "cell_type": "markdown",
   "metadata": {},
   "source": [
    "Random noise lives! We retrieved the entire structure from file. Nice."
   ]
  },
  {
   "cell_type": "markdown",
   "metadata": {},
   "source": [
    "### Okay, but I don't use dictionaries... I use pandas."
   ]
  },
  {
   "cell_type": "code",
   "execution_count": 24,
   "metadata": {},
   "outputs": [
    {
     "data": {
      "text/html": [
       "<div>\n",
       "<style scoped>\n",
       "    .dataframe tbody tr th:only-of-type {\n",
       "        vertical-align: middle;\n",
       "    }\n",
       "\n",
       "    .dataframe tbody tr th {\n",
       "        vertical-align: top;\n",
       "    }\n",
       "\n",
       "    .dataframe thead th {\n",
       "        text-align: right;\n",
       "    }\n",
       "</style>\n",
       "<table border=\"1\" class=\"dataframe\">\n",
       "  <thead>\n",
       "    <tr style=\"text-align: right;\">\n",
       "      <th></th>\n",
       "      <th>Yay</th>\n",
       "      <th>specific</th>\n",
       "      <th>column</th>\n",
       "      <th>names</th>\n",
       "    </tr>\n",
       "  </thead>\n",
       "  <tbody>\n",
       "    <tr>\n",
       "      <th>0</th>\n",
       "      <td>0.241825</td>\n",
       "      <td>-6.684791</td>\n",
       "      <td>2.586503</td>\n",
       "      <td>1.188213</td>\n",
       "    </tr>\n",
       "    <tr>\n",
       "      <th>1</th>\n",
       "      <td>-1.645216</td>\n",
       "      <td>-9.626485</td>\n",
       "      <td>-5.650633</td>\n",
       "      <td>9.157508</td>\n",
       "    </tr>\n",
       "    <tr>\n",
       "      <th>2</th>\n",
       "      <td>9.355895</td>\n",
       "      <td>2.655190</td>\n",
       "      <td>-6.302196</td>\n",
       "      <td>0.366891</td>\n",
       "    </tr>\n",
       "    <tr>\n",
       "      <th>3</th>\n",
       "      <td>7.494613</td>\n",
       "      <td>-0.431654</td>\n",
       "      <td>-7.322485</td>\n",
       "      <td>-1.639349</td>\n",
       "    </tr>\n",
       "    <tr>\n",
       "      <th>4</th>\n",
       "      <td>-7.503746</td>\n",
       "      <td>-1.744449</td>\n",
       "      <td>0.880916</td>\n",
       "      <td>-4.873075</td>\n",
       "    </tr>\n",
       "  </tbody>\n",
       "</table>\n",
       "</div>"
      ],
      "text/plain": [
       "        Yay  specific    column     names\n",
       "0  0.241825 -6.684791  2.586503  1.188213\n",
       "1 -1.645216 -9.626485 -5.650633  9.157508\n",
       "2  9.355895  2.655190 -6.302196  0.366891\n",
       "3  7.494613 -0.431654 -7.322485 -1.639349\n",
       "4 -7.503746 -1.744449  0.880916 -4.873075"
      ]
     },
     "execution_count": 24,
     "metadata": {},
     "output_type": "execute_result"
    }
   ],
   "source": [
    "import pandas as pd\n",
    "import numpy as np\n",
    "\n",
    "df = pd.DataFrame(np.random.uniform(-10,10, size=(100,4)), columns=['Yay','specific','column','names'])\n",
    "df.head(5)"
   ]
  },
  {
   "cell_type": "code",
   "execution_count": 25,
   "metadata": {},
   "outputs": [],
   "source": [
    "with open('my_dataframe.pickle', 'wb') as to_write:\n",
    "    pickle.dump(df, to_write)"
   ]
  },
  {
   "cell_type": "code",
   "execution_count": 26,
   "metadata": {},
   "outputs": [
    {
     "ename": "NameError",
     "evalue": "name 'df' is not defined",
     "output_type": "error",
     "traceback": [
      "\u001b[0;31m---------------------------------------------------------------------------\u001b[0m",
      "\u001b[0;31mNameError\u001b[0m                                 Traceback (most recent call last)",
      "\u001b[0;32m<ipython-input-26-3975f6306adf>\u001b[0m in \u001b[0;36m<module>\u001b[0;34m\u001b[0m\n\u001b[1;32m      1\u001b[0m \u001b[0;32mdel\u001b[0m \u001b[0mdf\u001b[0m\u001b[0;34m\u001b[0m\u001b[0;34m\u001b[0m\u001b[0m\n\u001b[1;32m      2\u001b[0m \u001b[0;34m\u001b[0m\u001b[0m\n\u001b[0;32m----> 3\u001b[0;31m \u001b[0mdf\u001b[0m\u001b[0;34m.\u001b[0m\u001b[0mhead\u001b[0m\u001b[0;34m(\u001b[0m\u001b[0;36m5\u001b[0m\u001b[0;34m)\u001b[0m\u001b[0;34m\u001b[0m\u001b[0;34m\u001b[0m\u001b[0m\n\u001b[0m",
      "\u001b[0;31mNameError\u001b[0m: name 'df' is not defined"
     ]
    }
   ],
   "source": [
    "del df\n",
    "\n",
    "df.head(5)"
   ]
  },
  {
   "cell_type": "code",
   "execution_count": 27,
   "metadata": {},
   "outputs": [
    {
     "data": {
      "text/html": [
       "<div>\n",
       "<style scoped>\n",
       "    .dataframe tbody tr th:only-of-type {\n",
       "        vertical-align: middle;\n",
       "    }\n",
       "\n",
       "    .dataframe tbody tr th {\n",
       "        vertical-align: top;\n",
       "    }\n",
       "\n",
       "    .dataframe thead th {\n",
       "        text-align: right;\n",
       "    }\n",
       "</style>\n",
       "<table border=\"1\" class=\"dataframe\">\n",
       "  <thead>\n",
       "    <tr style=\"text-align: right;\">\n",
       "      <th></th>\n",
       "      <th>Yay</th>\n",
       "      <th>specific</th>\n",
       "      <th>column</th>\n",
       "      <th>names</th>\n",
       "    </tr>\n",
       "  </thead>\n",
       "  <tbody>\n",
       "    <tr>\n",
       "      <th>0</th>\n",
       "      <td>0.241825</td>\n",
       "      <td>-6.684791</td>\n",
       "      <td>2.586503</td>\n",
       "      <td>1.188213</td>\n",
       "    </tr>\n",
       "    <tr>\n",
       "      <th>1</th>\n",
       "      <td>-1.645216</td>\n",
       "      <td>-9.626485</td>\n",
       "      <td>-5.650633</td>\n",
       "      <td>9.157508</td>\n",
       "    </tr>\n",
       "    <tr>\n",
       "      <th>2</th>\n",
       "      <td>9.355895</td>\n",
       "      <td>2.655190</td>\n",
       "      <td>-6.302196</td>\n",
       "      <td>0.366891</td>\n",
       "    </tr>\n",
       "    <tr>\n",
       "      <th>3</th>\n",
       "      <td>7.494613</td>\n",
       "      <td>-0.431654</td>\n",
       "      <td>-7.322485</td>\n",
       "      <td>-1.639349</td>\n",
       "    </tr>\n",
       "    <tr>\n",
       "      <th>4</th>\n",
       "      <td>-7.503746</td>\n",
       "      <td>-1.744449</td>\n",
       "      <td>0.880916</td>\n",
       "      <td>-4.873075</td>\n",
       "    </tr>\n",
       "  </tbody>\n",
       "</table>\n",
       "</div>"
      ],
      "text/plain": [
       "        Yay  specific    column     names\n",
       "0  0.241825 -6.684791  2.586503  1.188213\n",
       "1 -1.645216 -9.626485 -5.650633  9.157508\n",
       "2  9.355895  2.655190 -6.302196  0.366891\n",
       "3  7.494613 -0.431654 -7.322485 -1.639349\n",
       "4 -7.503746 -1.744449  0.880916 -4.873075"
      ]
     },
     "execution_count": 27,
     "metadata": {},
     "output_type": "execute_result"
    }
   ],
   "source": [
    "with open('my_dataframe.pickle','rb') as read_file:\n",
    "    new_df = pickle.load(read_file)\n",
    "    \n",
    "new_df.head(5)"
   ]
  },
  {
   "cell_type": "markdown",
   "metadata": {},
   "source": [
    "Pickle is a great tool. One recommended way of using it is to make it an end point of every step in your process. Example:\n",
    "\n",
    "* I got my data! Nice. Pickle it and stop your \"getting the data\" notebook.\n",
    "* Load your data from pickle. Clean it. Save your clean data to a new pickle.\n",
    "* Load your cleaned_data pickle. Do analysis and visualize it.\n",
    "\n",
    "This can provide natural \"pick-up-where-I-left-off-but-before-I-broke-my-data\" points. It's a great way to control the flow of your data.\n",
    "\n",
    "#### Resources\n",
    "\n",
    "https://docs.python.org/3.7/library/pickle.html"
   ]
  },
  {
   "cell_type": "code",
   "execution_count": null,
   "metadata": {},
   "outputs": [],
   "source": []
  }
 ],
 "metadata": {
  "kernelspec": {
   "display_name": "Python 3",
   "language": "python",
   "name": "python3"
  },
  "language_info": {
   "codemirror_mode": {
    "name": "ipython",
    "version": 3
   },
   "file_extension": ".py",
   "mimetype": "text/x-python",
   "name": "python",
   "nbconvert_exporter": "python",
   "pygments_lexer": "ipython3",
   "version": "3.7.6"
  }
 },
 "nbformat": 4,
 "nbformat_minor": 1
}
